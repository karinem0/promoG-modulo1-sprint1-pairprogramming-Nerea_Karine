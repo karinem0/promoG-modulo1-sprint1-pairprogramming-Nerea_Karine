{
 "cells": [
  {
   "cell_type": "code",
   "execution_count": 1,
   "metadata": {},
   "outputs": [],
   "source": [
    "#PAIR PROGRAMMING EJERCICIOS DICCIONARIOS:\n",
    "\n",
    "#Crear un diccionario vacío \n",
    "# #Descripción: Crea un diccionario vacío sin ningún par clave-valor.\n",
    "diccionario1= {}"
   ]
  },
  {
   "cell_type": "code",
   "execution_count": 2,
   "metadata": {},
   "outputs": [],
   "source": [
    "#Crear un diccionario con elementos\n",
    "#Descripción: Crea un diccionario con pares clave-valor predefinidos. Definir el diccionario con las claves y valores que querais. NOTA El diccionario debe tener al menos 5 pares de clave:valor.\n",
    "dict1 = { \"Maria\" : 5, \"Lorena\" : 27, \"Marta\": 34 , \"Rebeca\": 25, \"Karine\" : 63}"
   ]
  },
  {
   "cell_type": "code",
   "execution_count": 3,
   "metadata": {},
   "outputs": [
    {
     "name": "stdout",
     "output_type": "stream",
     "text": [
      "25\n"
     ]
    }
   ],
   "source": [
    "#Acceder al valor de una clave en un diccionario\n",
    "#Descripción: Usando el diccionario creado en el paso anterior, obtén el valor correspondiente a una clave específica que indique el usuario (debereis usar la función input() para preguntar al usuario).\n",
    "clave= str(input('Inserte clave'))\n",
    "clave= clave.title()    #utilizamos tittle() para evitar errores en caso de que el usuario escriba clave en minuscula\n",
    "valor= dict1.get(clave)\n",
    "print(valor)\n",
    "#Usamos get para obtener valor de clave dada por usuario. "
   ]
  },
  {
   "cell_type": "code",
   "execution_count": 4,
   "metadata": {},
   "outputs": [
    {
     "name": "stdout",
     "output_type": "stream",
     "text": [
      "{'Maria': 5, 'Lorena': 27, 'Marta': 34, 'Rebeca': 25, 'Karine': 63, 'Nerea': 7}\n"
     ]
    }
   ],
   "source": [
    "#Agregar un nuevo par clave-valor a un diccionario\n",
    "#Descripción: Usando el diccionario creado en el ejercicio 2, agrega un nuevo par clave-valor.\n",
    "dict1[\"Nerea\"]= 7\n",
    "print(dict1)"
   ]
  },
  {
   "cell_type": "code",
   "execution_count": 5,
   "metadata": {},
   "outputs": [],
   "source": [
    "#Actualizar el valor de una clave en un diccionario\n",
    "#Descripción: Usando el diccionario creado en el ejercicio 2, actualiza el valor correspondiente a una clave existente. \n",
    "\n",
    "\n",
    "#Ejemplo:\n",
    "# dado el siguiente diccionario\n",
    "#{'nombre': 'Ana', 'edad': 25, 'ciudad': 'Madrid', 'hijos': 1}\n",
    "\n",
    "# el ouptut esperado es: (ha cambiado el valor de la clave edad)\n",
    "#{'nombre': 'Ana', 'edad': 40, 'ciudad': 'Madrid', 'hijos': 1}"
   ]
  },
  {
   "cell_type": "code",
   "execution_count": 6,
   "metadata": {},
   "outputs": [
    {
     "name": "stdout",
     "output_type": "stream",
     "text": [
      "{'Maria': 5, 'Lorena': 27, 'Marta': 34, 'Rebeca': 25, 'Karine': 63, 'Nerea': 6}\n"
     ]
    }
   ],
   "source": [
    "dict1[\"Nerea\"]= 6\n",
    "print(dict1)"
   ]
  },
  {
   "cell_type": "code",
   "execution_count": 7,
   "metadata": {},
   "outputs": [
    {
     "name": "stdout",
     "output_type": "stream",
     "text": [
      "{'Maria': 5, 'Lorena': 27, 'Marta': 34, 'Karine': 63, 'Nerea': 6}\n"
     ]
    }
   ],
   "source": [
    "#Eliminar un par clave-valor de un diccionario\n",
    "#Descripción: Usando el diccionario creado en el ejercicio 2, elimina un par clave-valor específico que indique el usuario (debereis usar la función input() para preguntar al usuario).\n",
    "clave_eliminar= input(\"Ingrese usuario a eliminar\").title()\n",
    "Valor_eliminar = dict1.pop(clave_eliminar)\n",
    "print(dict1)"
   ]
  },
  {
   "cell_type": "code",
   "execution_count": 8,
   "metadata": {},
   "outputs": [
    {
     "name": "stdout",
     "output_type": "stream",
     "text": [
      "{'Maria': 5, 'Lorena': 27, 'Marta': 34, 'Karine': 63, 'Nerea': 6}\n"
     ]
    },
    {
     "data": {
      "text/plain": [
       "True"
      ]
     },
     "execution_count": 8,
     "metadata": {},
     "output_type": "execute_result"
    }
   ],
   "source": [
    "#Verificar si una clave está presente en un diccionario\n",
    "#Descripción: Usando el diccionario creado en el ejercicio 2, verifica si una clave específica está presente en él. La clave a buscar debe ser pasada por el usuario, debereis usar un input().\n",
    "print(dict1)\n",
    "clave1= input(\"Ingrese su valor\").title()\n",
    "clave1 in dict1"
   ]
  },
  {
   "cell_type": "code",
   "execution_count": 9,
   "metadata": {},
   "outputs": [
    {
     "name": "stdout",
     "output_type": "stream",
     "text": [
      "dict_keys(['Maria', 'Lorena', 'Marta', 'Karine', 'Nerea'])\n"
     ]
    }
   ],
   "source": [
    "#Obtener una lista de todas las claves de un diccionario\n",
    "#Descripción: Usando el diccionario creado en el ejercicio 2, obtén una lista con todas las claves que contiene.\n",
    "print(dict1.keys())"
   ]
  },
  {
   "cell_type": "code",
   "execution_count": 10,
   "metadata": {},
   "outputs": [
    {
     "name": "stdout",
     "output_type": "stream",
     "text": [
      "dict_values([5, 27, 34, 63, 6])\n"
     ]
    }
   ],
   "source": [
    "#Obtener una lista de todos los valores de un diccionario\n",
    "#Descripción: Usando el diccionario creado en el ejercicio 2, obtén una lista con todos los valores que contiene.\n",
    "print(dict1.values())"
   ]
  },
  {
   "cell_type": "code",
   "execution_count": 11,
   "metadata": {},
   "outputs": [
    {
     "name": "stdout",
     "output_type": "stream",
     "text": [
      "{'Maria': 5, 'Lorena': 27, 'Marta': 34, 'Karine': 63, 'Nerea': 6}\n"
     ]
    }
   ],
   "source": [
    "#Utilizar el método setdefault() para establecer un valor predeterminado si la clave no existe\n",
    "#Descripción: Usando el diccionario creado en el ejercicio 2, obten el valor correspondiente a una clave. Si la clave no existe, establece un valor predeterminado y devuelve dicho valor.\n",
    "dict1.setdefault(\"Nerea\")\n",
    "#Si la clave existe nos devuelve su valor.\n",
    "print(dict1)"
   ]
  },
  {
   "cell_type": "code",
   "execution_count": 12,
   "metadata": {},
   "outputs": [
    {
     "name": "stdout",
     "output_type": "stream",
     "text": [
      "{'Maria': 5, 'Lorena': 27, 'Marta': 34, 'Karine': 63, 'Nerea': 6, 'Julia': 6}\n"
     ]
    }
   ],
   "source": [
    "dict1.setdefault('Julia', 6)\n",
    "print(dict1)\n",
    "#En este caso la clave Julia no existe, establecemos un valor determinado. "
   ]
  },
  {
   "cell_type": "code",
   "execution_count": 13,
   "metadata": {},
   "outputs": [
    {
     "data": {
      "text/plain": [
       "('Julia', 6)"
      ]
     },
     "execution_count": 13,
     "metadata": {},
     "output_type": "execute_result"
    }
   ],
   "source": [
    "#Manipulación de un diccionario utilizando pop() y popitem()\n",
    "#Descripción: Usando el diccionario creado en el ejercicio 2, realiza operaciones de eliminación utilizando pop() y popitem(), y observa cómo afectan al diccionario.\n",
    "dict1.popitem()\n",
    "print"
   ]
  },
  {
   "cell_type": "code",
   "execution_count": 14,
   "metadata": {},
   "outputs": [
    {
     "data": {
      "text/plain": [
       "5"
      ]
     },
     "execution_count": 14,
     "metadata": {},
     "output_type": "execute_result"
    }
   ],
   "source": [
    "dict1.pop(\"Maria\")"
   ]
  },
  {
   "cell_type": "code",
   "execution_count": 15,
   "metadata": {},
   "outputs": [
    {
     "name": "stdout",
     "output_type": "stream",
     "text": [
      "{'Lorena': 27, 'Marta': 34, 'Karine': 63, 'Nerea': 6}\n"
     ]
    }
   ],
   "source": [
    "print(dict1)"
   ]
  },
  {
   "cell_type": "code",
   "execution_count": 1,
   "metadata": {},
   "outputs": [],
   "source": [
    "#EJERCICIOS SETS:\n",
    "#Crear un conjunto vacío\n",
    "#Descripción: Crea un conjunto vacío sin ningún elemento.\n",
    "set1= {}"
   ]
  },
  {
   "cell_type": "code",
   "execution_count": 2,
   "metadata": {},
   "outputs": [],
   "source": [
    "#Crear un conjunto con elementos\n",
    "#Descripción: Crea un conjunto con elementos predefinidos.\n",
    "set2= {\"Tomates\", \"Peras\", \"cabollas\", \"pepinos\"}"
   ]
  },
  {
   "cell_type": "code",
   "execution_count": 3,
   "metadata": {},
   "outputs": [
    {
     "name": "stdout",
     "output_type": "stream",
     "text": [
      "{'Peras', 'Tomates', 'cabollas', 'Manzana', 'pepinos'}\n",
      "{'Peras', 'Jamon', 'Tomates', 'cabollas', 'kiwi', 'Manzana', 'pepinos'}\n"
     ]
    }
   ],
   "source": [
    "#Agregar elementos a un conjunto\n",
    "#Descripción: Usando el set creado en el ejercicio 2, agrega nuevos elementos. Debereis agregar por separado:\n",
    "#Un elemento solo\n",
    "set2.add(\"Manzana\")\n",
    "print(set2)\n",
    "#Un par de elementos a la vez.\n",
    "set2.update([\"kiwi\", \"Jamon\"])\n",
    "print(set2)"
   ]
  },
  {
   "cell_type": "code",
   "execution_count": 5,
   "metadata": {},
   "outputs": [
    {
     "name": "stdout",
     "output_type": "stream",
     "text": [
      "{'Peras', 'cabollas', 'pepinos'}\n"
     ]
    }
   ],
   "source": [
    "#Eliminar un elemento de un conjunto\n",
    "#Descripción: Usando el set creado en el ejercicio 2, elimina un elemento especificado por el usuario.\n",
    "set2= {\"Tomates\", \"Peras\", \"cabollas\", \"pepinos\"}\n",
    "elemento_eliminar= input(\"Escribe el ingrediente a eliminar\").title()\n",
    "set2.remove(elemento_eliminar)\n",
    "print(set2)"
   ]
  },
  {
   "cell_type": "code",
   "execution_count": 6,
   "metadata": {},
   "outputs": [
    {
     "data": {
      "text/plain": [
       "False"
      ]
     },
     "execution_count": 6,
     "metadata": {},
     "output_type": "execute_result"
    }
   ],
   "source": [
    "#Verificar la pertenencia de un elemento en un conjunto\n",
    "#Descripción: Usando el set creado en el ejercicio 2, verifica si un elemento específico está presente en él.\n",
    "\"Naranjas\" in set2"
   ]
  },
  {
   "cell_type": "code",
   "execution_count": 7,
   "metadata": {},
   "outputs": [
    {
     "data": {
      "text/plain": [
       "{'Manzanas', 'Narajas', 'Peras', 'Tomates', 'cabollas', 'pepinos'}"
      ]
     },
     "execution_count": 7,
     "metadata": {},
     "output_type": "execute_result"
    }
   ],
   "source": [
    "#Realizar una unión de conjuntos\n",
    "#Descripción: Dados dos conjuntos, realiza una unión de ellos.\n",
    "set2= {\"Tomates\", \"Peras\", \"cabollas\", \"pepinos\"}\n",
    "set3= {\"Narajas\", \"Peras\", \"Manzanas\"}\n",
    "set2.union(set3)"
   ]
  },
  {
   "cell_type": "code",
   "execution_count": 8,
   "metadata": {},
   "outputs": [
    {
     "data": {
      "text/plain": [
       "{'Peras'}"
      ]
     },
     "execution_count": 8,
     "metadata": {},
     "output_type": "execute_result"
    }
   ],
   "source": [
    "#Realizar una intersección de conjuntos\n",
    "#Descripción: Usando dos conjuntos de datos definidos en el ejercicio anterior, realiza una intersección de ellos.\n",
    "set2.intersection(set3)"
   ]
  },
  {
   "cell_type": "code",
   "execution_count": 9,
   "metadata": {},
   "outputs": [
    {
     "data": {
      "text/plain": [
       "{'Tomates', 'cabollas', 'pepinos'}"
      ]
     },
     "execution_count": 9,
     "metadata": {},
     "output_type": "execute_result"
    }
   ],
   "source": [
    "#Realizar una diferencia de conjuntos\n",
    "#Descripción: Usando dos conjuntos de datos definidos en el ejercicio anterior, realiza una diferencia entre ellos.\n",
    "set2.difference(set3)"
   ]
  },
  {
   "cell_type": "code",
   "execution_count": 10,
   "metadata": {},
   "outputs": [
    {
     "data": {
      "text/plain": [
       "False"
      ]
     },
     "execution_count": 10,
     "metadata": {},
     "output_type": "execute_result"
    }
   ],
   "source": [
    "#Verificar si un conjunto es subconjunto de otro\n",
    "#Descripción: Dados dos conjuntos, verifica si uno es subconjunto del otro.\n",
    "set2.issubset(set3)"
   ]
  },
  {
   "cell_type": "code",
   "execution_count": 11,
   "metadata": {},
   "outputs": [
    {
     "data": {
      "text/plain": [
       "False"
      ]
     },
     "execution_count": 11,
     "metadata": {},
     "output_type": "execute_result"
    }
   ],
   "source": [
    "#Verificar si un conjunto es subconjunto de otro\n",
    "#Descripción: Dados dos conjuntos, verifica si uno es subconjunto del otro.\n",
    "set3.issubset(set2)"
   ]
  }
 ],
 "metadata": {
  "kernelspec": {
   "display_name": "base",
   "language": "python",
   "name": "python3"
  },
  "language_info": {
   "codemirror_mode": {
    "name": "ipython",
    "version": 3
   },
   "file_extension": ".py",
   "mimetype": "text/x-python",
   "name": "python",
   "nbconvert_exporter": "python",
   "pygments_lexer": "ipython3",
   "version": "3.9.7"
  }
 },
 "nbformat": 4,
 "nbformat_minor": 2
}
