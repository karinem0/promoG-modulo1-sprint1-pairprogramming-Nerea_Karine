{
 "cells": [
  {
   "cell_type": "markdown",
   "metadata": {},
   "source": [
    "\n",
    "# Pair programming Variables\n",
    "\n",
    "# VARIABLES: \n",
    "\n",
    "1. - Cread tres variables numéricas de tipo integer (entero), llamadas de la siguiente forma: \n",
    "\n",
    "numero1\n",
    "numero2\n",
    "numero3\n",
    "\n",
    "- Utilizando los operadores lógicos:\n",
    "\n",
    "En vuestro caso, es el numero1 mayor que el numero2 // \n",
    "Es el numero1 menor que el numero2 pero mayor que el numero3 //\n",
    "Es el numero3 igual que el numero2 //\n",
    "Es el numero2 distinto que el numero1 //\n"
   ]
  },
  {
   "cell_type": "code",
   "execution_count": 4,
   "metadata": {},
   "outputs": [
    {
     "name": "stdout",
     "output_type": "stream",
     "text": [
      "True\n",
      "True\n",
      "False\n",
      "True\n"
     ]
    }
   ],
   "source": [
    "numero1= int(43)   \n",
    "numero2= int(32)\n",
    "numero3= int(7)\n",
    "print(numero1 > numero2)\n",
    "print( numero3 < numero1  or numero1 < numero2)\n",
    "print(numero3 == numero2)\n",
    "print(numero2 != numero1)\n",
    "#Establecemos las variables. Tras esto imprimos el resultado en true/false de las comparaciones. "
   ]
  },
  {
   "cell_type": "markdown",
   "metadata": {},
   "source": [
    "2. - Cread dos variables numéricas de tipo float (decimal) con dos decimales, llamdas de la siguiente forma:\n",
    "\n",
    "altura1\n",
    "altura2\n",
    "- Utilizando los operadores matemáticos aprendidos en la lección:\n",
    "\n",
    "Cuál es la suma de las dos alturas//\n",
    "Cuál es la diferencia entre las alturas//\n",
    "Cuál es el resto de la división de las dos alturas// \n",
    "Cuál es resultado de la división de las dos alturas, redondead el resultado a un decimal.//\n"
   ]
  },
  {
   "cell_type": "code",
   "execution_count": 17,
   "metadata": {},
   "outputs": [
    {
     "name": "stdout",
     "output_type": "stream",
     "text": [
      "7.789999999999999\n",
      "0.7083333333333334\n",
      "0.0\n",
      "0.7\n"
     ]
    }
   ],
   "source": [
    "altura1= 3.23\n",
    "altura2= 4.56\n",
    "suma_total= altura1 + altura2\n",
    "print(suma_total) #Aquí definimos variable suma_total pero podemos hacerlo como en el siguiente paso directamente. \n",
    "print(altura1/altura2)\n",
    "print(altura1//altura2) #Aquí hallamos el resto de una división con // \n",
    "print(round(altura1/altura2, 1)) #Redondeamos a un decimal (1) del final especifica a cuantos decimales redondeamos. \n"
   ]
  },
  {
   "cell_type": "markdown",
   "metadata": {},
   "source": [
    "3. Escribid un programa usando la función input() que le pregunte al usuario su nombre y apellidos. Una vez que tengamos el nombre del usuario:\n",
    "\n",
    "Printead su nombre y apellidos todo en mayúsculas//\n",
    "Printead su nombre y apellidos todo en minúsculas//\n",
    "Printead su nombre y apellidos con la primera letra del nombre y los apellidos en mayúscula y el resto en minúscula.//\n",
    "Printeas solo la primera letra del nombre en mayúscula.//\n"
   ]
  },
  {
   "cell_type": "code",
   "execution_count": 29,
   "metadata": {},
   "outputs": [
    {
     "name": "stdout",
     "output_type": "stream",
     "text": [
      "karine machado\n",
      "KARINE MACHADO\n",
      "karine machado\n",
      "Karine Machado\n",
      "Karine machado\n"
     ]
    }
   ],
   "source": [
    "nombre_apellidos= input('Inserte nombre y apellidos')\n",
    "print(nombre_apellidos)\n",
    "print(nombre_apellidos.upper()) #printeamos variable en mayusculas\n",
    "print(nombre_apellidos.lower()) #printeamos variable en minusculas\n",
    "print(nombre_apellidos.title()) #usamos title para mayusculas primera letra de cada palabra de la cadena de texto\n",
    "print(nombre_apellidos.capitalize()) #usqamos capitalize para poner solo primera letra en mayusculas"
   ]
  },
  {
   "cell_type": "markdown",
   "metadata": {},
   "source": [
    "\n",
    "4. Escribid un programa usando la función input() que:\n",
    "Le pregunte al usuario por una frase, almacenad este resultado en una variable.//\n",
    "Le pregunte al usuario por una vocal, almacenad este resultado en una variable.//\n",
    "Printead la misma frase pero con la vocal introducida en mayúsulas.//\n"
   ]
  },
  {
   "cell_type": "code",
   "execution_count": 32,
   "metadata": {},
   "outputs": [
    {
     "name": "stdout",
     "output_type": "stream",
     "text": [
      "las rosas son rojas\n",
      "las rosas son rojas , A\n"
     ]
    }
   ],
   "source": [
    "frase= input('Inserte una frase')\n",
    "print(frase)\n",
    "vocal= input('Inserte una vocal')\n",
    "print(frase, ',', vocal.upper()) #definimos dos variables y tras esto printeamos ambas variables añadiendo .upper en ultima variable para mayuscula. "
   ]
  },
  {
   "cell_type": "markdown",
   "metadata": {},
   "source": [
    "\n",
    "5. Escribid un programa usando la función input() que:\n",
    "Le pregunte al usuario por la lista de la compra, separando cada elemento por comas.///\n",
    "Devolved la lista de compra donde veamos cada elemento en una línea.\n",
    "💡Pista\n",
    "Para indicar salto de línea usaremos \"\\n\".\n",
    "Deberéis usar el método join de los strings"
   ]
  },
  {
   "cell_type": "code",
   "execution_count": 63,
   "metadata": {},
   "outputs": [
    {
     "name": "stdout",
     "output_type": "stream",
     "text": [
      "['maiz', 'nata', 'queso', 'bacon', 'lechuga']\n",
      "maiz\n",
      "nata\n",
      "queso\n",
      "bacon\n",
      "lechuga\n"
     ]
    }
   ],
   "source": [
    "lista_compra= input('Inserte su lista de la compra separadando los elementos con comas')\n",
    "lista= lista_compra.split(',')\n",
    "print(lista)\n",
    "#pedimos al usuario que separe los elementos con comas. Obtenemos valor de la variable lista_compra y añadimos split para separar elementos en una lista. \n",
    "#Procedemos a indicar salto de línea con .join\n",
    "lista_espacios= '\\n'.join(lista)\n",
    "print(lista_espacios)"
   ]
  }
 ],
 "metadata": {
  "kernelspec": {
   "display_name": "base",
   "language": "python",
   "name": "python3"
  },
  "language_info": {
   "codemirror_mode": {
    "name": "ipython",
    "version": 3
   },
   "file_extension": ".py",
   "mimetype": "text/x-python",
   "name": "python",
   "nbconvert_exporter": "python",
   "pygments_lexer": "ipython3",
   "version": "3.9.0"
  }
 },
 "nbformat": 4,
 "nbformat_minor": 2
}
