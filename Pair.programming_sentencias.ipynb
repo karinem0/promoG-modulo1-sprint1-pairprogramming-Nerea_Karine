{
 "cells": [
  {
   "cell_type": "code",
   "execution_count": 14,
   "metadata": {},
   "outputs": [],
   "source": [
    "import random"
   ]
  },
  {
   "cell_type": "code",
   "execution_count": 1,
   "metadata": {},
   "outputs": [
    {
     "name": "stdout",
     "output_type": "stream",
     "text": [
      "el numero es positivo\n"
     ]
    }
   ],
   "source": [
    "#PAIR-PROGRAMMING: Ejercicios if-else\n",
    "#Verificar si un número es positivo, negativo o cero\n",
    "#Descripción: Dado un número, verifica si es positivo, negativo o cero.\n",
    "numero= int(input('Inserte un número'))\n",
    "if numero <0:\n",
    "    print('el numero es negativo')\n",
    "elif numero == 0:\n",
    "    print('el número es 0')\n",
    "else: \n",
    "    print('el numero es positivo')"
   ]
  },
  {
   "cell_type": "code",
   "execution_count": 2,
   "metadata": {},
   "outputs": [
    {
     "name": "stdout",
     "output_type": "stream",
     "text": [
      "el numero es par\n"
     ]
    }
   ],
   "source": [
    "#Verificar si un número es par o impar\n",
    "#Descripción: Dado un número, verifica si es par o impar.\n",
    "if numero % 2 == 0:\n",
    "    print('el numero es par')\n",
    "else: \n",
    "    print('el numero es impar')"
   ]
  },
  {
   "cell_type": "code",
   "execution_count": 4,
   "metadata": {},
   "outputs": [
    {
     "name": "stdout",
     "output_type": "stream",
     "text": [
      "suspenso\n"
     ]
    }
   ],
   "source": [
    "#Verificar si un estudiante aprobó o suspendió un examen\n",
    "#Descripción: Dada la calificación de un estudiante en un examen, verifica si aprobó o suspendió (si la calificación es mayor o igual a 60 se considera aprobado).\n",
    "calificacion= int(input('Inserte su calificacion'))\n",
    "if calificacion >= 60:\n",
    "    print('aprobado')\n",
    "else: \n",
    "    print('suspenso')"
   ]
  },
  {
   "cell_type": "code",
   "execution_count": 10,
   "metadata": {},
   "outputs": [
    {
     "name": "stdout",
     "output_type": "stream",
     "text": [
      "el segundo número es mayor 54\n"
     ]
    }
   ],
   "source": [
    "#Calcular el máximo entre dos números\n",
    "#Descripción: Dados dos números, encuentra el máximo entre ellos.\n",
    "num1= int(input('Inserte número'))\n",
    "num2= int(input('Inserte número'))\n",
    "if num1 > num2:\n",
    "    print('el primer numero es mayor', num1)\n",
    "elif num2 > num1:\n",
    "    print('el segundo número es mayor', num2)\n",
    "else: \n",
    "    print('los números son iguales')\n"
   ]
  },
  {
   "cell_type": "code",
   "execution_count": 17,
   "metadata": {},
   "outputs": [
    {
     "name": "stdout",
     "output_type": "stream",
     "text": [
      "es consonante\n"
     ]
    }
   ],
   "source": [
    "#Verificar si una letra es una vocal o una consonante\n",
    "#Descripción: Dada una letra, verifica si es una vocal o una consonante.\n",
    "letra= input('Inserte una letra')\n",
    "letra= letra.lower()\n",
    "vocales= ['a','e','i','o','u']\n",
    "if letra in vocales:\n",
    "    print('es una vocal')\n",
    "else:\n",
    "    print('es consonante')"
   ]
  },
  {
   "cell_type": "code",
   "execution_count": 3,
   "metadata": {},
   "outputs": [
    {
     "name": "stdout",
     "output_type": "stream",
     "text": [
      "10.5\n"
     ]
    }
   ],
   "source": [
    "#Calcular el descuento en una compra según el monto total\n",
    "#Descripción: Dado el monto total de una compra, calcula el descuento aplicado según las siguientes condiciones: si el monto es mayor o igual a $100, aplica un descuento del 10%; de lo contrario, no aplica ningún descuento.\n",
    "total_compra= float(input('Inserte el precio total de su compra'))\n",
    "if total_compra >= 100:\n",
    "    print(total_compra * 0.10)\n",
    "else: \n",
    "    print('no se aplica descuento')\n"
   ]
  },
  {
   "cell_type": "code",
   "execution_count": 10,
   "metadata": {},
   "outputs": [
    {
     "name": "stdout",
     "output_type": "stream",
     "text": [
      "El año 2100 no es bisiesto\n"
     ]
    }
   ],
   "source": [
    "#Verificar si un año es bisiesto o no\n",
    "#Descripción: Dado un año, verifica si es bisiesto o no (un año es bisiesto si es divisible entre 4, excepto aquellos divisibles entre 100 pero no entre 400).\n",
    "\n",
    "if (año % 4 == 0 and año % 100 != 0) or (año % 400 == 0):\n",
    "    print(f\"El año {año} es bisiesto\")\n",
    "else:\n",
    "    print(f\"El año {año} no es bisiesto\")\n",
    "\n"
   ]
  },
  {
   "cell_type": "code",
   "execution_count": 1,
   "metadata": {},
   "outputs": [
    {
     "name": "stdout",
     "output_type": "stream",
     "text": [
      "Adulto mayor\n"
     ]
    }
   ],
   "source": [
    "#Asignar una categoría a una edad\n",
    "#Descripción: Dada una edad, asigna una categoría según las siguientes condiciones: si la edad es menor de 18, la categoría es \"Menor de edad\"; si la edad está entre 18 y 64 (incluyendo ambos), la categoría es \"Adulto\"; de lo contrario, la categoría es \"Adulto mayor\".\n",
    "edad= int(input('inserte su edad'))\n",
    "if edad <18:\n",
    "    print('menor de edad')\n",
    "elif 18 <= edad <= 64:\n",
    "    print('Adulto')\n",
    "else: \n",
    "    print('Adulto mayor')"
   ]
  },
  {
   "cell_type": "code",
   "execution_count": 7,
   "metadata": {},
   "outputs": [
    {
     "name": "stdout",
     "output_type": "stream",
     "text": [
      "No se cumple el teorema de Pitágoras\n"
     ]
    }
   ],
   "source": [
    "#Verificar si tres números forman un triángulo rectángulo. \n",
    "# Descripción: Dados tres números, verifica si forman un triángulo rectángulo (si se cumple el teorema de Pitágoras).\n",
    "lado_a= float(input('Ingrese valor lado A'))\n",
    "lado_b= float(input('Ingrese valor lado B'))\n",
    "lado_c= float(input('Ingrese valor lado C'))\n",
    "if lado_a** 2 + lado_b**2 == lado_c**2:\n",
    "    print('Si se cumple el teorema de Pitágoras')\n",
    "elif lado_a**2 + lado_c**2 == lado_b**2:\n",
    "    print('Si se cumple el teorema de Pitágoras')\n",
    "else:\n",
    "    print('No se cumple el teorema de Pitágoras')\n"
   ]
  },
  {
   "cell_type": "code",
   "execution_count": 8,
   "metadata": {},
   "outputs": [
    {
     "name": "stdout",
     "output_type": "stream",
     "text": [
      "F\n"
     ]
    }
   ],
   "source": [
    "#Asignar una calificación a una puntuación\n",
    "#Descripción: Dada una puntuación, asigna una calificación según las siguientes condiciones: si la puntuación es mayor o igual a 90, la calificación es \"A\"; si es mayor o igual a 80, la calificación es \"B\"; si es mayor o igual a 70, la calificación es \"C\"; si es mayor o igual a 60, la calificación es \"D\"; de lo contrario, la calificación es \"F\".\n",
    "puntuacion= int(input('Inserte puntuación'))\n",
    "if puntuacion >= 90:\n",
    "    print('A)')\n",
    "elif puntuacion >= 80:\n",
    "    print('B')\n",
    "elif puntuacion >= 70:\n",
    "    print('C')\n",
    "elif puntuacion >=60:\n",
    "    print('D')\n",
    "else: \n",
    "    print('F')\n"
   ]
  },
  {
   "cell_type": "code",
   "execution_count": 1,
   "metadata": {},
   "outputs": [
    {
     "name": "stdout",
     "output_type": "stream",
     "text": [
      "Bajo peso\n"
     ]
    }
   ],
   "source": [
    "#Calcular el índice de masa corporal (IMC) y categorizarlo\n",
    "#Descripción: Dados el peso (en kg) y la altura (en metros) de una persona, calcula su IMC y categorízalo según las siguientes condiciones: si el IMC es menor a 18.5, es \"Bajo peso\"; si está entre 18.5 y 24.9 (inclusive), es \"Peso normal\"; si está entre 25 y 29.9 (inclusive), es \"Sobrepeso\"; de lo contrario, es \"Obesidad\".\n",
    "peso=float(input('Inserte peso'))\n",
    "altura=float(input('Inserte altura'))\n",
    "IMC= peso/altura**2\n",
    "if IMC < 18.5:\n",
    "    print('Bajo peso')\n",
    "elif 18.5 <= IMC <= 24.9:\n",
    "    print('Peso normal')\n",
    "elif 25 <= IMC <= 29.9:\n",
    "    print('Sobrepeso')\n",
    "else:\n",
    "    print('Obesidad')"
   ]
  },
  {
   "cell_type": "code",
   "execution_count": 9,
   "metadata": {},
   "outputs": [
    {
     "name": "stdout",
     "output_type": "stream",
     "text": [
      "el número mayor es 54\n"
     ]
    }
   ],
   "source": [
    "#Calcular el mayor de tres números\n",
    "#Descripción: Dados tres números, encuentra el mayor entre ellos.\n",
    "num_1= 6\n",
    "num_2= 54\n",
    "num_3= 12\n",
    "if num_1 >= num_2 and num_1 >= num_3:\n",
    "    print(' el numero mayor es', num_1)\n",
    "elif num_2 >= num_1 and num_2 >= num_3:\n",
    "    print('el número mayor es', num_2)\n",
    "else:\n",
    "    print('el numero mayor es', num_3)\n",
    "    "
   ]
  },
  {
   "cell_type": "code",
   "execution_count": null,
   "metadata": {},
   "outputs": [],
   "source": [
    "#BONUS sentencias de control: Verificar la validez de una fecha\n",
    "#Descripción: Dados el día, el mes y el año de una fecha, verifica si la fecha es válida.\n",
    "\n",
    "día= int(input('Ingrese día'))\n",
    "mes= int(input('Ingrese mes'))\n",
    "año= int(input('Ingrese año'))\n",
    "fecha_mes= días_por_mes = [31, 28, 31, 30, 31, 30, 31, 31, 30, 31, 30, 31]\n",
    "if (año % 4 == 0 and año % 100 != 0) or (año % 400 == 0):\n",
    "    días_por_mes[1] = 29\n",
    "    # Verificar si el mes y el día están dentro del rango permitido\n",
    "if mes < 1 or mes > 12:\n",
    "    print('Fecha no válida: el mes está fuera de rango.')\n",
    "elif día < 1 or día > días_por_mes[mes - 1]:\n",
    "    print('Fecha no válida: el día está fuera de rango para el mes seleccionado.')\n",
    "else:\n",
    "    print('La fecha ingresada es válida.')\n"
   ]
  },
  {
   "cell_type": "code",
   "execution_count": 4,
   "metadata": {},
   "outputs": [
    {
     "name": "stdout",
     "output_type": "stream",
     "text": [
      "1\n",
      "2\n",
      "3\n",
      "4\n",
      "5\n",
      "6\n",
      "7\n",
      "8\n",
      "9\n",
      "10\n"
     ]
    }
   ],
   "source": [
    "#Ejercicios while\n",
    "# #Calcular la suma de los primeros 10 números naturales utilizando un bucle while\n",
    "#Descripción: Utiliza un bucle while para calcular la suma de los primeros 10 números naturales (1 + 2 + 3 + ... + 10).\n",
    "\n",
    "numero= 1 \n",
    "suma= 0 \n",
    "while numero <=10:\n",
    "    suma += 1 \n",
    "    numero += 1 \n",
    "    print(suma)\n"
   ]
  },
  {
   "cell_type": "code",
   "execution_count": 24,
   "metadata": {},
   "outputs": [
    {
     "name": "stdout",
     "output_type": "stream",
     "text": [
      "Intentalo de nuevo\n"
     ]
    }
   ],
   "source": [
    "#Juego de adivinanza utilizando un bucle while\n",
    "#Descripción: Crea un juego de adivinanza en el que el jugador tiene que adivinar un número secreto (tendrá que ser entre el 0 y el 10). Utiliza un bucle while para permitir múltiples intentos hasta que el jugador adivine correctamente.\n",
    "#se pueden añadir vidas si se quisiera como se ve a continuación:\n",
    "acierto= random.randint(1,10)\n",
    "option= True \n",
    "vidas= 3\n",
    "while option == True:\n",
    "    mi_numero= int(input('Adivina un número del 1 al 10'))\n",
    "    vidas -= 1\n",
    "    if mi_numero == acierto:\n",
    "        print('Lo has adivinado')\n",
    "        option= False \n",
    "    else:\n",
    "        print('Intentalo de nuevo')\n",
    "    if vidas == 0:\n",
    "        print('No te quedan vidas')\n",
    "        option=  False \n",
    "\n",
    "    print(vidas)\n",
    " \n",
    " #También se podría añadir otro if/else para que se den 'pistas' al jugador.    \n"
   ]
  }
 ],
 "metadata": {
  "kernelspec": {
   "display_name": "base",
   "language": "python",
   "name": "python3"
  },
  "language_info": {
   "codemirror_mode": {
    "name": "ipython",
    "version": 3
   },
   "file_extension": ".py",
   "mimetype": "text/x-python",
   "name": "python",
   "nbconvert_exporter": "python",
   "pygments_lexer": "ipython3",
   "version": "3.9.7"
  }
 },
 "nbformat": 4,
 "nbformat_minor": 2
}
